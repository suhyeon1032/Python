{
 "cells": [
  {
   "cell_type": "code",
   "execution_count": 28,
   "id": "8bf0a7c9",
   "metadata": {},
   "outputs": [
    {
     "data": {
      "text/plain": [
       "(array([1, 2, 3, 4]), [1, 2, 3, 4])"
      ]
     },
     "execution_count": 28,
     "metadata": {},
     "output_type": "execute_result"
    }
   ],
   "source": [
    "import numpy as np\n",
    "my_list = [1,2,3,4]\n",
    "arr1 = np.array( my_list )\n",
    "\n",
    "arr1, my_list"
   ]
  },
  {
   "cell_type": "code",
   "execution_count": 3,
   "id": "2e589c35",
   "metadata": {},
   "outputs": [
    {
     "data": {
      "text/plain": [
       "array([10, 20, 30, 40])"
      ]
     },
     "execution_count": 3,
     "metadata": {},
     "output_type": "execute_result"
    }
   ],
   "source": [
    "arr1 * 10 # element wise"
   ]
  },
  {
   "cell_type": "code",
   "execution_count": 6,
   "id": "572b5e4e",
   "metadata": {
    "scrolled": true
   },
   "outputs": [
    {
     "data": {
      "text/plain": [
       "[1,\n",
       " 2,\n",
       " 3,\n",
       " 4,\n",
       " 1,\n",
       " 2,\n",
       " 3,\n",
       " 4,\n",
       " 1,\n",
       " 2,\n",
       " 3,\n",
       " 4,\n",
       " 1,\n",
       " 2,\n",
       " 3,\n",
       " 4,\n",
       " 1,\n",
       " 2,\n",
       " 3,\n",
       " 4,\n",
       " 1,\n",
       " 2,\n",
       " 3,\n",
       " 4,\n",
       " 1,\n",
       " 2,\n",
       " 3,\n",
       " 4,\n",
       " 1,\n",
       " 2,\n",
       " 3,\n",
       " 4,\n",
       " 1,\n",
       " 2,\n",
       " 3,\n",
       " 4,\n",
       " 1,\n",
       " 2,\n",
       " 3,\n",
       " 4]"
      ]
     },
     "execution_count": 6,
     "metadata": {},
     "output_type": "execute_result"
    }
   ],
   "source": [
    "my_list * 10"
   ]
  },
  {
   "cell_type": "code",
   "execution_count": 8,
   "id": "f36149b1",
   "metadata": {},
   "outputs": [
    {
     "data": {
      "text/plain": [
       "[4, 5, 6]"
      ]
     },
     "execution_count": 8,
     "metadata": {},
     "output_type": "execute_result"
    }
   ],
   "source": [
    "my_list2 = [\n",
    "    [1,2,3],\n",
    "    [4,5,6]\n",
    "]\n",
    "my_list2[1]"
   ]
  },
  {
   "cell_type": "code",
   "execution_count": 10,
   "id": "61d380ec",
   "metadata": {},
   "outputs": [
    {
     "data": {
      "text/plain": [
       "array([[1, 2, 3],\n",
       "       [4, 5, 6]])"
      ]
     },
     "execution_count": 10,
     "metadata": {},
     "output_type": "execute_result"
    }
   ],
   "source": [
    "arr2 = np.array( my_list2 )\n",
    "arr2"
   ]
  },
  {
   "cell_type": "code",
   "execution_count": 12,
   "id": "546cfed6",
   "metadata": {},
   "outputs": [
    {
     "data": {
      "text/plain": [
       "array([2, 5])"
      ]
     },
     "execution_count": 12,
     "metadata": {},
     "output_type": "execute_result"
    }
   ],
   "source": [
    "arr2[ : , 1] #  [행번호, 열번호]  : 은 전체"
   ]
  },
  {
   "cell_type": "code",
   "execution_count": 15,
   "id": "3430a646",
   "metadata": {},
   "outputs": [
    {
     "data": {
      "text/plain": [
       "array([[1, 3],\n",
       "       [4, 6]])"
      ]
     },
     "execution_count": 15,
     "metadata": {},
     "output_type": "execute_result"
    }
   ],
   "source": [
    "arr2[ :, [0,2]] # 팬시인덱싱(띄엄띄엄 추출 평가 자주나와!)"
   ]
  },
  {
   "cell_type": "code",
   "execution_count": 20,
   "id": "6fe599ad",
   "metadata": {},
   "outputs": [
    {
     "data": {
      "text/plain": [
       "array([0. , 0.1, 0.2, 0.3, 0.4, 0.5, 0.6, 0.7, 0.8, 0.9, 1. , 1.1, 1.2,\n",
       "       1.3, 1.4, 1.5, 1.6, 1.7, 1.8, 1.9, 2. , 2.1, 2.2, 2.3, 2.4, 2.5,\n",
       "       2.6, 2.7, 2.8, 2.9])"
      ]
     },
     "execution_count": 20,
     "metadata": {},
     "output_type": "execute_result"
    }
   ],
   "source": [
    "# 3차원 배열\n",
    "arr3 = np.array(\n",
    "    [\n",
    "        [\n",
    "            [1,2,3],\n",
    "            [4,5,6]\n",
    "        ],\n",
    "        [\n",
    "            [1,2,3],\n",
    "            [4,5,6]\n",
    "        ]\n",
    "    ]\n",
    ")\n",
    "\n",
    "np.arange(0,3,0.1)"
   ]
  },
  {
   "cell_type": "code",
   "execution_count": 22,
   "id": "b972afe9",
   "metadata": {},
   "outputs": [
    {
     "data": {
      "text/plain": [
       "array([ 1. ,  5.5, 10. ])"
      ]
     },
     "execution_count": 22,
     "metadata": {},
     "output_type": "execute_result"
    }
   ],
   "source": [
    "np.linspace(1,10,3)"
   ]
  },
  {
   "cell_type": "code",
   "execution_count": 24,
   "id": "a03e96aa",
   "metadata": {},
   "outputs": [
    {
     "data": {
      "text/plain": [
       "array([[1., 1.],\n",
       "       [1., 1.]])"
      ]
     },
     "execution_count": 24,
     "metadata": {},
     "output_type": "execute_result"
    }
   ],
   "source": [
    "np.ones((2,2)) # 1로 채운 배열 2행 2열"
   ]
  },
  {
   "cell_type": "code",
   "execution_count": 30,
   "id": "0b95485f",
   "metadata": {},
   "outputs": [
    {
     "data": {
      "text/plain": [
       "array([[0., 0., 0., 0.],\n",
       "       [0., 0., 0., 0.],\n",
       "       [0., 0., 0., 0.]])"
      ]
     },
     "execution_count": 30,
     "metadata": {},
     "output_type": "execute_result"
    }
   ],
   "source": [
    "np.zeros((3,4))"
   ]
  },
  {
   "cell_type": "code",
   "execution_count": 29,
   "id": "99e23a35",
   "metadata": {},
   "outputs": [
    {
     "data": {
      "text/plain": [
       "array([[-1, -1, -1],\n",
       "       [-1, -1, -1]])"
      ]
     },
     "execution_count": 29,
     "metadata": {},
     "output_type": "execute_result"
    }
   ],
   "source": [
    "np.full((2,3),-1)"
   ]
  },
  {
   "cell_type": "code",
   "execution_count": 31,
   "id": "27e32bbb",
   "metadata": {},
   "outputs": [
    {
     "data": {
      "text/plain": [
       "array([[1., 0., 0., 0., 0.],\n",
       "       [0., 1., 0., 0., 0.],\n",
       "       [0., 0., 1., 0., 0.],\n",
       "       [0., 0., 0., 1., 0.],\n",
       "       [0., 0., 0., 0., 1.]])"
      ]
     },
     "execution_count": 31,
     "metadata": {},
     "output_type": "execute_result"
    }
   ],
   "source": [
    "np.eye(5) #대각선으로 채운"
   ]
  },
  {
   "cell_type": "code",
   "execution_count": 34,
   "id": "7b22ab7d",
   "metadata": {},
   "outputs": [
    {
     "data": {
      "text/plain": [
       "(1, 2, 3)"
      ]
     },
     "execution_count": 34,
     "metadata": {},
     "output_type": "execute_result"
    }
   ],
   "source": [
    "arr1.ndim, arr2.ndim, arr3.ndim # 차원 형식"
   ]
  },
  {
   "cell_type": "code",
   "execution_count": 37,
   "id": "a75080d6",
   "metadata": {},
   "outputs": [
    {
     "data": {
      "text/plain": [
       "(4,)"
      ]
     },
     "execution_count": 37,
     "metadata": {},
     "output_type": "execute_result"
    }
   ],
   "source": [
    "arr1.shape"
   ]
  },
  {
   "cell_type": "code",
   "execution_count": 39,
   "id": "a14cf6f0",
   "metadata": {},
   "outputs": [
    {
     "data": {
      "text/plain": [
       "tuple"
      ]
     },
     "execution_count": 39,
     "metadata": {},
     "output_type": "execute_result"
    }
   ],
   "source": [
    "type( (3,) )"
   ]
  },
  {
   "cell_type": "code",
   "execution_count": 42,
   "id": "cc57783a",
   "metadata": {},
   "outputs": [
    {
     "data": {
      "text/plain": [
       "array(['1.0', '2', '3'], dtype='<U32')"
      ]
     },
     "execution_count": 42,
     "metadata": {},
     "output_type": "execute_result"
    }
   ],
   "source": [
    "np.array([1.0,2,\"3\"])"
   ]
  },
  {
   "cell_type": "code",
   "execution_count": 43,
   "id": "e09dbeda",
   "metadata": {},
   "outputs": [
    {
     "data": {
      "text/plain": [
       "(dtype('int32'), dtype('int32'), dtype('int32'))"
      ]
     },
     "execution_count": 43,
     "metadata": {},
     "output_type": "execute_result"
    }
   ],
   "source": [
    "arr1.dtype, arr2.dtype, arr3.dtype"
   ]
  },
  {
   "cell_type": "code",
   "execution_count": 44,
   "id": "474e1949",
   "metadata": {},
   "outputs": [
    {
     "data": {
      "text/plain": [
       "(array([[1, 2, 3],\n",
       "        [4, 5, 6]]),\n",
       " array([[1, 4],\n",
       "        [2, 5],\n",
       "        [3, 6]]))"
      ]
     },
     "execution_count": 44,
     "metadata": {},
     "output_type": "execute_result"
    }
   ],
   "source": [
    "arr2, arr2.T"
   ]
  },
  {
   "cell_type": "code",
   "execution_count": 48,
   "id": "e21d6c80",
   "metadata": {},
   "outputs": [
    {
     "data": {
      "text/plain": [
       "array([[[ 0,  1],\n",
       "        [ 2,  3],\n",
       "        [ 4,  5],\n",
       "        [ 6,  7]],\n",
       "\n",
       "       [[ 8,  9],\n",
       "        [10, 11],\n",
       "        [12, 13],\n",
       "        [14, 15]]])"
      ]
     },
     "execution_count": 48,
     "metadata": {},
     "output_type": "execute_result"
    }
   ],
   "source": [
    "array = np.arange(16)\n",
    "array.reshape(2,-1,2)"
   ]
  },
  {
   "cell_type": "code",
   "execution_count": 49,
   "id": "1da0ab45",
   "metadata": {},
   "outputs": [
    {
     "data": {
      "text/plain": [
       "<function ndarray.reshape>"
      ]
     },
     "execution_count": 49,
     "metadata": {},
     "output_type": "execute_result"
    }
   ],
   "source": [
    "array.reshape"
   ]
  },
  {
   "cell_type": "code",
   "execution_count": 51,
   "id": "2a548344",
   "metadata": {},
   "outputs": [
    {
     "data": {
      "text/plain": [
       "array([[1., 2., 3.],\n",
       "       [4., 5., 6.]], dtype=float32)"
      ]
     },
     "execution_count": 51,
     "metadata": {},
     "output_type": "execute_result"
    }
   ],
   "source": [
    "arr2.astype( np.float32)"
   ]
  },
  {
   "cell_type": "code",
   "execution_count": 52,
   "id": "823951ed",
   "metadata": {},
   "outputs": [
    {
     "data": {
      "text/plain": [
       "dtype('int32')"
      ]
     },
     "execution_count": 52,
     "metadata": {},
     "output_type": "execute_result"
    }
   ],
   "source": [
    "arr2.dtype"
   ]
  },
  {
   "cell_type": "code",
   "execution_count": 21,
   "id": "9a6dbbc7",
   "metadata": {},
   "outputs": [
    {
     "data": {
      "text/html": [
       "<div>\n",
       "<style scoped>\n",
       "    .dataframe tbody tr th:only-of-type {\n",
       "        vertical-align: middle;\n",
       "    }\n",
       "\n",
       "    .dataframe tbody tr th {\n",
       "        vertical-align: top;\n",
       "    }\n",
       "\n",
       "    .dataframe thead th {\n",
       "        text-align: right;\n",
       "    }\n",
       "</style>\n",
       "<table border=\"1\" class=\"dataframe\">\n",
       "  <thead>\n",
       "    <tr style=\"text-align: right;\">\n",
       "      <th></th>\n",
       "      <th>시군구</th>\n",
       "      <th>번지</th>\n",
       "      <th>본번</th>\n",
       "      <th>부번</th>\n",
       "      <th>단지명</th>\n",
       "      <th>전용면적(㎡)</th>\n",
       "      <th>계약년월</th>\n",
       "      <th>계약일</th>\n",
       "      <th>거래금액(만원)</th>\n",
       "      <th>층</th>\n",
       "      <th>건축년도</th>\n",
       "      <th>도로명</th>\n",
       "      <th>해제사유발생일</th>\n",
       "      <th>거래유형</th>\n",
       "      <th>중개사소재지</th>\n",
       "    </tr>\n",
       "  </thead>\n",
       "  <tbody>\n",
       "    <tr>\n",
       "      <th>0</th>\n",
       "      <td>서울특별시 강남구 개포동</td>\n",
       "      <td>658-1</td>\n",
       "      <td>658.0</td>\n",
       "      <td>1.0</td>\n",
       "      <td>개포6차우성아파트1동~8동</td>\n",
       "      <td>79.97</td>\n",
       "      <td>202109</td>\n",
       "      <td>2</td>\n",
       "      <td>220000</td>\n",
       "      <td>2</td>\n",
       "      <td>1987.0</td>\n",
       "      <td>언주로 3</td>\n",
       "      <td>NaN</td>\n",
       "      <td>-</td>\n",
       "      <td>-</td>\n",
       "    </tr>\n",
       "    <tr>\n",
       "      <th>1</th>\n",
       "      <td>서울특별시 강남구 개포동</td>\n",
       "      <td>658-1</td>\n",
       "      <td>658.0</td>\n",
       "      <td>1.0</td>\n",
       "      <td>개포6차우성아파트1동~8동</td>\n",
       "      <td>79.97</td>\n",
       "      <td>202112</td>\n",
       "      <td>4</td>\n",
       "      <td>215000</td>\n",
       "      <td>3</td>\n",
       "      <td>1987.0</td>\n",
       "      <td>언주로 3</td>\n",
       "      <td>NaN</td>\n",
       "      <td>중개거래</td>\n",
       "      <td>서울 강남구</td>\n",
       "    </tr>\n",
       "    <tr>\n",
       "      <th>2</th>\n",
       "      <td>서울특별시 강남구 개포동</td>\n",
       "      <td>658-1</td>\n",
       "      <td>658.0</td>\n",
       "      <td>1.0</td>\n",
       "      <td>개포6차우성아파트1동~8동</td>\n",
       "      <td>79.97</td>\n",
       "      <td>202204</td>\n",
       "      <td>12</td>\n",
       "      <td>220000</td>\n",
       "      <td>4</td>\n",
       "      <td>1987.0</td>\n",
       "      <td>언주로 3</td>\n",
       "      <td>NaN</td>\n",
       "      <td>중개거래</td>\n",
       "      <td>서울 강남구</td>\n",
       "    </tr>\n",
       "    <tr>\n",
       "      <th>3</th>\n",
       "      <td>서울특별시 강남구 개포동</td>\n",
       "      <td>658-1</td>\n",
       "      <td>658.0</td>\n",
       "      <td>1.0</td>\n",
       "      <td>개포6차우성아파트1동~8동</td>\n",
       "      <td>79.97</td>\n",
       "      <td>202204</td>\n",
       "      <td>21</td>\n",
       "      <td>220000</td>\n",
       "      <td>2</td>\n",
       "      <td>1987.0</td>\n",
       "      <td>언주로 3</td>\n",
       "      <td>NaN</td>\n",
       "      <td>중개거래</td>\n",
       "      <td>서울 강남구</td>\n",
       "    </tr>\n",
       "    <tr>\n",
       "      <th>4</th>\n",
       "      <td>서울특별시 강남구 개포동</td>\n",
       "      <td>658-1</td>\n",
       "      <td>658.0</td>\n",
       "      <td>1.0</td>\n",
       "      <td>개포6차우성아파트1동~8동</td>\n",
       "      <td>79.97</td>\n",
       "      <td>202205</td>\n",
       "      <td>27</td>\n",
       "      <td>216000</td>\n",
       "      <td>2</td>\n",
       "      <td>1987.0</td>\n",
       "      <td>언주로 3</td>\n",
       "      <td>NaN</td>\n",
       "      <td>중개거래</td>\n",
       "      <td>서울 강남구</td>\n",
       "    </tr>\n",
       "    <tr>\n",
       "      <th>...</th>\n",
       "      <td>...</td>\n",
       "      <td>...</td>\n",
       "      <td>...</td>\n",
       "      <td>...</td>\n",
       "      <td>...</td>\n",
       "      <td>...</td>\n",
       "      <td>...</td>\n",
       "      <td>...</td>\n",
       "      <td>...</td>\n",
       "      <td>...</td>\n",
       "      <td>...</td>\n",
       "      <td>...</td>\n",
       "      <td>...</td>\n",
       "      <td>...</td>\n",
       "      <td>...</td>\n",
       "    </tr>\n",
       "    <tr>\n",
       "      <th>16942</th>\n",
       "      <td>서울특별시 중랑구 중화동</td>\n",
       "      <td>450</td>\n",
       "      <td>450.0</td>\n",
       "      <td>0.0</td>\n",
       "      <td>한신아파트(103~109)</td>\n",
       "      <td>59.76</td>\n",
       "      <td>202207</td>\n",
       "      <td>20</td>\n",
       "      <td>74000</td>\n",
       "      <td>3</td>\n",
       "      <td>1997.0</td>\n",
       "      <td>동일로 752</td>\n",
       "      <td>NaN</td>\n",
       "      <td>중개거래</td>\n",
       "      <td>서울 중랑구</td>\n",
       "    </tr>\n",
       "    <tr>\n",
       "      <th>16943</th>\n",
       "      <td>서울특별시 중랑구 중화동</td>\n",
       "      <td>450</td>\n",
       "      <td>450.0</td>\n",
       "      <td>0.0</td>\n",
       "      <td>한신아파트(103~109)</td>\n",
       "      <td>84.03</td>\n",
       "      <td>202207</td>\n",
       "      <td>27</td>\n",
       "      <td>91500</td>\n",
       "      <td>12</td>\n",
       "      <td>1997.0</td>\n",
       "      <td>동일로 752</td>\n",
       "      <td>NaN</td>\n",
       "      <td>중개거래</td>\n",
       "      <td>서울 중랑구</td>\n",
       "    </tr>\n",
       "    <tr>\n",
       "      <th>16944</th>\n",
       "      <td>서울특별시 중랑구 중화동</td>\n",
       "      <td>274-51</td>\n",
       "      <td>274.0</td>\n",
       "      <td>51.0</td>\n",
       "      <td>한영(101)</td>\n",
       "      <td>84.69</td>\n",
       "      <td>202111</td>\n",
       "      <td>4</td>\n",
       "      <td>50000</td>\n",
       "      <td>2</td>\n",
       "      <td>2003.0</td>\n",
       "      <td>동일로144길 74</td>\n",
       "      <td>NaN</td>\n",
       "      <td>중개거래</td>\n",
       "      <td>서울 송파구, 서울 중랑구</td>\n",
       "    </tr>\n",
       "    <tr>\n",
       "      <th>16945</th>\n",
       "      <td>서울특별시 중랑구 중화동</td>\n",
       "      <td>274-51</td>\n",
       "      <td>274.0</td>\n",
       "      <td>51.0</td>\n",
       "      <td>한영(101)</td>\n",
       "      <td>84.69</td>\n",
       "      <td>202204</td>\n",
       "      <td>9</td>\n",
       "      <td>49900</td>\n",
       "      <td>7</td>\n",
       "      <td>2003.0</td>\n",
       "      <td>동일로144길 74</td>\n",
       "      <td>NaN</td>\n",
       "      <td>중개거래</td>\n",
       "      <td>서울 중랑구</td>\n",
       "    </tr>\n",
       "    <tr>\n",
       "      <th>16946</th>\n",
       "      <td>서울특별시 중랑구 중화동</td>\n",
       "      <td>11-7</td>\n",
       "      <td>11.0</td>\n",
       "      <td>7.0</td>\n",
       "      <td>현대휴앤미(102동)</td>\n",
       "      <td>76.43</td>\n",
       "      <td>202204</td>\n",
       "      <td>23</td>\n",
       "      <td>53000</td>\n",
       "      <td>6</td>\n",
       "      <td>2007.0</td>\n",
       "      <td>봉화산로27가길 19</td>\n",
       "      <td>NaN</td>\n",
       "      <td>중개거래</td>\n",
       "      <td>서울 중랑구</td>\n",
       "    </tr>\n",
       "  </tbody>\n",
       "</table>\n",
       "<p>16947 rows × 15 columns</p>\n",
       "</div>"
      ],
      "text/plain": [
       "                 시군구      번지     본번    부번             단지명  전용면적(㎡)    계약년월  \\\n",
       "0      서울특별시 강남구 개포동   658-1  658.0   1.0  개포6차우성아파트1동~8동    79.97  202109   \n",
       "1      서울특별시 강남구 개포동   658-1  658.0   1.0  개포6차우성아파트1동~8동    79.97  202112   \n",
       "2      서울특별시 강남구 개포동   658-1  658.0   1.0  개포6차우성아파트1동~8동    79.97  202204   \n",
       "3      서울특별시 강남구 개포동   658-1  658.0   1.0  개포6차우성아파트1동~8동    79.97  202204   \n",
       "4      서울특별시 강남구 개포동   658-1  658.0   1.0  개포6차우성아파트1동~8동    79.97  202205   \n",
       "...              ...     ...    ...   ...             ...      ...     ...   \n",
       "16942  서울특별시 중랑구 중화동     450  450.0   0.0  한신아파트(103~109)    59.76  202207   \n",
       "16943  서울특별시 중랑구 중화동     450  450.0   0.0  한신아파트(103~109)    84.03  202207   \n",
       "16944  서울특별시 중랑구 중화동  274-51  274.0  51.0         한영(101)    84.69  202111   \n",
       "16945  서울특별시 중랑구 중화동  274-51  274.0  51.0         한영(101)    84.69  202204   \n",
       "16946  서울특별시 중랑구 중화동    11-7   11.0   7.0     현대휴앤미(102동)    76.43  202204   \n",
       "\n",
       "       계약일  거래금액(만원)   층    건축년도          도로명  해제사유발생일  거래유형          중개사소재지  \n",
       "0        2    220000   2  1987.0        언주로 3      NaN     -               -  \n",
       "1        4    215000   3  1987.0        언주로 3      NaN  중개거래          서울 강남구  \n",
       "2       12    220000   4  1987.0        언주로 3      NaN  중개거래          서울 강남구  \n",
       "3       21    220000   2  1987.0        언주로 3      NaN  중개거래          서울 강남구  \n",
       "4       27    216000   2  1987.0        언주로 3      NaN  중개거래          서울 강남구  \n",
       "...    ...       ...  ..     ...          ...      ...   ...             ...  \n",
       "16942   20     74000   3  1997.0      동일로 752      NaN  중개거래          서울 중랑구  \n",
       "16943   27     91500  12  1997.0      동일로 752      NaN  중개거래          서울 중랑구  \n",
       "16944    4     50000   2  2003.0   동일로144길 74      NaN  중개거래  서울 송파구, 서울 중랑구  \n",
       "16945    9     49900   7  2003.0   동일로144길 74      NaN  중개거래          서울 중랑구  \n",
       "16946   23     53000   6  2007.0  봉화산로27가길 19      NaN  중개거래          서울 중랑구  \n",
       "\n",
       "[16947 rows x 15 columns]"
      ]
     },
     "execution_count": 21,
     "metadata": {},
     "output_type": "execute_result"
    }
   ],
   "source": [
    "# 아파트 실거래데이터 읽기\n",
    "import pandas as pd\n",
    "apt_price = pd.read_csv(\n",
    "    \"./apt_price_2022.csv\", \n",
    "    encoding = \"cp949\",\n",
    "    skiprows=15,\n",
    "    thousands=\",\"\n",
    "    \n",
    ")\n",
    "apt_price"
   ]
  },
  {
   "cell_type": "code",
   "execution_count": 22,
   "id": "11b2fc1c",
   "metadata": {},
   "outputs": [
    {
     "data": {
      "text/plain": [
       "((16947, 15), 254205)"
      ]
     },
     "execution_count": 22,
     "metadata": {},
     "output_type": "execute_result"
    }
   ],
   "source": [
    "apt_price.shape, apt_price.size"
   ]
  },
  {
   "cell_type": "code",
   "execution_count": 23,
   "id": "97e166f2",
   "metadata": {},
   "outputs": [
    {
     "data": {
      "text/plain": [
       "array([['서울특별시 강남구 개포동', '658-1', 658.0, ..., nan, '-', '-'],\n",
       "       ['서울특별시 강남구 개포동', '658-1', 658.0, ..., nan, '중개거래', '서울 강남구'],\n",
       "       ['서울특별시 강남구 개포동', '658-1', 658.0, ..., nan, '중개거래', '서울 강남구'],\n",
       "       ...,\n",
       "       ['서울특별시 중랑구 중화동', '274-51', 274.0, ..., nan, '중개거래',\n",
       "        '서울 송파구, 서울 중랑구'],\n",
       "       ['서울특별시 중랑구 중화동', '274-51', 274.0, ..., nan, '중개거래', '서울 중랑구'],\n",
       "       ['서울특별시 중랑구 중화동', '11-7', 11.0, ..., nan, '중개거래', '서울 중랑구']],\n",
       "      dtype=object)"
      ]
     },
     "execution_count": 23,
     "metadata": {},
     "output_type": "execute_result"
    }
   ],
   "source": [
    "apt_price.values"
   ]
  },
  {
   "cell_type": "code",
   "execution_count": 24,
   "id": "a6137b92",
   "metadata": {},
   "outputs": [
    {
     "data": {
      "text/plain": [
       "0        26.392739\n",
       "1        26.392739\n",
       "2        26.392739\n",
       "3        26.392739\n",
       "4        26.392739\n",
       "           ...    \n",
       "16942    19.722772\n",
       "16943    27.732673\n",
       "16944    27.950495\n",
       "16945    27.950495\n",
       "16946    25.224422\n",
       "Name: 전용면적(㎡), Length: 16947, dtype: float64"
      ]
     },
     "execution_count": 24,
     "metadata": {},
     "output_type": "execute_result"
    }
   ],
   "source": [
    "평 = apt_price[\"전용면적(㎡)\"] /3.03\n",
    "평"
   ]
  },
  {
   "cell_type": "code",
   "execution_count": 25,
   "id": "f4355b86",
   "metadata": {},
   "outputs": [
    {
     "data": {
      "text/plain": [
       "0        8335.625860\n",
       "1        8146.179817\n",
       "2        8335.625860\n",
       "3        8335.625860\n",
       "4        8184.069026\n",
       "            ...     \n",
       "16942    3752.008032\n",
       "16943    3299.357372\n",
       "16944    1788.877081\n",
       "16945    1785.299327\n",
       "16946    2101.138296\n",
       "Length: 16947, dtype: float64"
      ]
     },
     "execution_count": 25,
     "metadata": {},
     "output_type": "execute_result"
    }
   ],
   "source": [
    "apt_price[\"거래금액(만원)\"] / 평"
   ]
  },
  {
   "cell_type": "code",
   "execution_count": 26,
   "id": "20e5566c",
   "metadata": {},
   "outputs": [
    {
     "name": "stdout",
     "output_type": "stream",
     "text": [
      "Variable    Type         Data/Info\n",
      "----------------------------------\n",
      "apt_price   DataFrame                     시군구     <...>[16947 rows x 15 columns]\n",
      "pd          module       <module 'pandas' from 'C:<...>es\\\\pandas\\\\__init__.py'>\n",
      "평           Series       0        26.392739\\n1    <...>th: 16947, dtype: float64\n"
     ]
    }
   ],
   "source": [
    "%whos"
   ]
  },
  {
   "cell_type": "code",
   "execution_count": 30,
   "id": "97f20e2c",
   "metadata": {},
   "outputs": [
    {
     "data": {
      "text/plain": [
       "array([[0, 1, 2],\n",
       "       [3, 4, 5],\n",
       "       [6, 7, 8]])"
      ]
     },
     "execution_count": 30,
     "metadata": {},
     "output_type": "execute_result"
    }
   ],
   "source": [
    "arr5 = np.arange(9).reshape(3,3)\n",
    "arr5"
   ]
  },
  {
   "cell_type": "code",
   "execution_count": 32,
   "id": "e503f1c0",
   "metadata": {},
   "outputs": [
    {
     "data": {
      "text/plain": [
       "4"
      ]
     },
     "execution_count": 32,
     "metadata": {},
     "output_type": "execute_result"
    }
   ],
   "source": [
    "arr5[1][1]\n",
    "arr5[1,1]\n"
   ]
  },
  {
   "cell_type": "code",
   "execution_count": 34,
   "id": "554c8b97",
   "metadata": {},
   "outputs": [
    {
     "data": {
      "text/plain": [
       "array([0, 1, 2, 3, 4, 5, 6, 7, 8])"
      ]
     },
     "execution_count": 34,
     "metadata": {},
     "output_type": "execute_result"
    }
   ],
   "source": [
    "arr6 = np.arange(9)\n",
    "arr6"
   ]
  },
  {
   "cell_type": "code",
   "execution_count": 35,
   "id": "4c08da1d",
   "metadata": {},
   "outputs": [
    {
     "data": {
      "text/plain": [
       "1"
      ]
     },
     "execution_count": 35,
     "metadata": {},
     "output_type": "execute_result"
    }
   ],
   "source": [
    "arr6[1]"
   ]
  },
  {
   "cell_type": "code",
   "execution_count": 37,
   "id": "000cf514",
   "metadata": {},
   "outputs": [
    {
     "data": {
      "text/plain": [
       "array([[ True, False,  True],\n",
       "       [False,  True, False],\n",
       "       [ True, False,  True]])"
      ]
     },
     "execution_count": 37,
     "metadata": {},
     "output_type": "execute_result"
    }
   ],
   "source": [
    "bidx = arr5 % 2 == 0\n",
    "bidx"
   ]
  },
  {
   "cell_type": "code",
   "execution_count": 39,
   "id": "a1c5a0cf",
   "metadata": {},
   "outputs": [
    {
     "data": {
      "text/plain": [
       "array([0, 2, 4, 6, 8])"
      ]
     },
     "execution_count": 39,
     "metadata": {},
     "output_type": "execute_result"
    }
   ],
   "source": [
    "arr5[bidx] # Ture에 위치하는 값을 추출, 1차원 반환 # 필수 출제"
   ]
  },
  {
   "cell_type": "code",
   "execution_count": 40,
   "id": "db5927b8",
   "metadata": {},
   "outputs": [
    {
     "data": {
      "text/plain": [
       "array([0, 2, 4, 6, 8])"
      ]
     },
     "execution_count": 40,
     "metadata": {},
     "output_type": "execute_result"
    }
   ],
   "source": [
    "arr5[arr5 % 2 == 0]"
   ]
  },
  {
   "cell_type": "code",
   "execution_count": 43,
   "id": "14c6fa4d",
   "metadata": {},
   "outputs": [
    {
     "data": {
      "text/plain": [
       "0         True\n",
       "1        False\n",
       "2        False\n",
       "3         True\n",
       "4         True\n",
       "         ...  \n",
       "16942    False\n",
       "16943    False\n",
       "16944     True\n",
       "16945    False\n",
       "16946    False\n",
       "Name: 층, Length: 16947, dtype: bool"
      ]
     },
     "execution_count": 43,
     "metadata": {},
     "output_type": "execute_result"
    }
   ],
   "source": [
    "apt_price[apt_price[\"층\"] == 2]"
   ]
  },
  {
   "cell_type": "code",
   "execution_count": 48,
   "id": "02053e7d",
   "metadata": {},
   "outputs": [
    {
     "data": {
      "text/plain": [
       "78"
      ]
     },
     "execution_count": 48,
     "metadata": {},
     "output_type": "execute_result"
    }
   ],
   "source": [
    "# 서울특별식 강동구 암사동 거래정보만 추출\n",
    "bidx = apt_price[\"시군구\"] == \"서울특별시 강동구 암사동\"\n",
    "sum(bidx) # True ->1 False -> 0"
   ]
  },
  {
   "cell_type": "code",
   "execution_count": 50,
   "id": "5116a1d4",
   "metadata": {},
   "outputs": [
    {
     "data": {
      "text/html": [
       "<div>\n",
       "<style scoped>\n",
       "    .dataframe tbody tr th:only-of-type {\n",
       "        vertical-align: middle;\n",
       "    }\n",
       "\n",
       "    .dataframe tbody tr th {\n",
       "        vertical-align: top;\n",
       "    }\n",
       "\n",
       "    .dataframe thead th {\n",
       "        text-align: right;\n",
       "    }\n",
       "</style>\n",
       "<table border=\"1\" class=\"dataframe\">\n",
       "  <thead>\n",
       "    <tr style=\"text-align: right;\">\n",
       "      <th></th>\n",
       "      <th>시군구</th>\n",
       "      <th>번지</th>\n",
       "      <th>본번</th>\n",
       "      <th>부번</th>\n",
       "      <th>단지명</th>\n",
       "      <th>전용면적(㎡)</th>\n",
       "      <th>계약년월</th>\n",
       "      <th>계약일</th>\n",
       "      <th>거래금액(만원)</th>\n",
       "      <th>층</th>\n",
       "      <th>건축년도</th>\n",
       "      <th>도로명</th>\n",
       "      <th>해제사유발생일</th>\n",
       "      <th>거래유형</th>\n",
       "      <th>중개사소재지</th>\n",
       "    </tr>\n",
       "  </thead>\n",
       "  <tbody>\n",
       "    <tr>\n",
       "      <th>1625</th>\n",
       "      <td>서울특별시 강동구 암사동</td>\n",
       "      <td>466-3</td>\n",
       "      <td>466.0</td>\n",
       "      <td>3.0</td>\n",
       "      <td>내일쎄닛빌</td>\n",
       "      <td>111.4000</td>\n",
       "      <td>202205</td>\n",
       "      <td>11</td>\n",
       "      <td>72000</td>\n",
       "      <td>9</td>\n",
       "      <td>2007.0</td>\n",
       "      <td>고덕로20나길 49</td>\n",
       "      <td>NaN</td>\n",
       "      <td>직거래</td>\n",
       "      <td>-</td>\n",
       "    </tr>\n",
       "    <tr>\n",
       "      <th>1626</th>\n",
       "      <td>서울특별시 강동구 암사동</td>\n",
       "      <td>461</td>\n",
       "      <td>461.0</td>\n",
       "      <td>0.0</td>\n",
       "      <td>대원</td>\n",
       "      <td>59.9000</td>\n",
       "      <td>202201</td>\n",
       "      <td>17</td>\n",
       "      <td>72500</td>\n",
       "      <td>12</td>\n",
       "      <td>1998.0</td>\n",
       "      <td>고덕로 52</td>\n",
       "      <td>NaN</td>\n",
       "      <td>중개거래</td>\n",
       "      <td>서울 강남구, 서울 강동구</td>\n",
       "    </tr>\n",
       "    <tr>\n",
       "      <th>1627</th>\n",
       "      <td>서울특별시 강동구 암사동</td>\n",
       "      <td>501-4</td>\n",
       "      <td>501.0</td>\n",
       "      <td>4.0</td>\n",
       "      <td>동양넥스빌</td>\n",
       "      <td>84.6800</td>\n",
       "      <td>202205</td>\n",
       "      <td>10</td>\n",
       "      <td>80000</td>\n",
       "      <td>10</td>\n",
       "      <td>1999.0</td>\n",
       "      <td>상암로 41</td>\n",
       "      <td>NaN</td>\n",
       "      <td>중개거래</td>\n",
       "      <td>서울 강동구</td>\n",
       "    </tr>\n",
       "    <tr>\n",
       "      <th>1628</th>\n",
       "      <td>서울특별시 강동구 암사동</td>\n",
       "      <td>414-2</td>\n",
       "      <td>414.0</td>\n",
       "      <td>2.0</td>\n",
       "      <td>롯데캐슬퍼스트</td>\n",
       "      <td>59.9900</td>\n",
       "      <td>202109</td>\n",
       "      <td>8</td>\n",
       "      <td>129700</td>\n",
       "      <td>18</td>\n",
       "      <td>2008.0</td>\n",
       "      <td>고덕로 131</td>\n",
       "      <td>NaN</td>\n",
       "      <td>-</td>\n",
       "      <td>-</td>\n",
       "    </tr>\n",
       "    <tr>\n",
       "      <th>1629</th>\n",
       "      <td>서울특별시 강동구 암사동</td>\n",
       "      <td>414-2</td>\n",
       "      <td>414.0</td>\n",
       "      <td>2.0</td>\n",
       "      <td>롯데캐슬퍼스트</td>\n",
       "      <td>59.9900</td>\n",
       "      <td>202109</td>\n",
       "      <td>11</td>\n",
       "      <td>125500</td>\n",
       "      <td>3</td>\n",
       "      <td>2008.0</td>\n",
       "      <td>고덕로 131</td>\n",
       "      <td>NaN</td>\n",
       "      <td>-</td>\n",
       "      <td>-</td>\n",
       "    </tr>\n",
       "    <tr>\n",
       "      <th>...</th>\n",
       "      <td>...</td>\n",
       "      <td>...</td>\n",
       "      <td>...</td>\n",
       "      <td>...</td>\n",
       "      <td>...</td>\n",
       "      <td>...</td>\n",
       "      <td>...</td>\n",
       "      <td>...</td>\n",
       "      <td>...</td>\n",
       "      <td>...</td>\n",
       "      <td>...</td>\n",
       "      <td>...</td>\n",
       "      <td>...</td>\n",
       "      <td>...</td>\n",
       "      <td>...</td>\n",
       "    </tr>\n",
       "    <tr>\n",
       "      <th>1698</th>\n",
       "      <td>서울특별시 강동구 암사동</td>\n",
       "      <td>400</td>\n",
       "      <td>400.0</td>\n",
       "      <td>0.0</td>\n",
       "      <td>현대홈타운</td>\n",
       "      <td>84.9800</td>\n",
       "      <td>202204</td>\n",
       "      <td>20</td>\n",
       "      <td>137500</td>\n",
       "      <td>18</td>\n",
       "      <td>2004.0</td>\n",
       "      <td>고덕로27길 36</td>\n",
       "      <td>NaN</td>\n",
       "      <td>중개거래</td>\n",
       "      <td>서울 강동구</td>\n",
       "    </tr>\n",
       "    <tr>\n",
       "      <th>1699</th>\n",
       "      <td>서울특별시 강동구 암사동</td>\n",
       "      <td>400</td>\n",
       "      <td>400.0</td>\n",
       "      <td>0.0</td>\n",
       "      <td>현대홈타운</td>\n",
       "      <td>114.0700</td>\n",
       "      <td>202205</td>\n",
       "      <td>30</td>\n",
       "      <td>155000</td>\n",
       "      <td>11</td>\n",
       "      <td>2004.0</td>\n",
       "      <td>고덕로27길 36</td>\n",
       "      <td>NaN</td>\n",
       "      <td>중개거래</td>\n",
       "      <td>서울 강동구</td>\n",
       "    </tr>\n",
       "    <tr>\n",
       "      <th>1700</th>\n",
       "      <td>서울특별시 강동구 암사동</td>\n",
       "      <td>675</td>\n",
       "      <td>675.0</td>\n",
       "      <td>0.0</td>\n",
       "      <td>힐스테이트 강동 리버뷰</td>\n",
       "      <td>84.9979</td>\n",
       "      <td>202203</td>\n",
       "      <td>29</td>\n",
       "      <td>130000</td>\n",
       "      <td>4</td>\n",
       "      <td>2019.0</td>\n",
       "      <td>올림픽로91길 30</td>\n",
       "      <td>NaN</td>\n",
       "      <td>중개거래</td>\n",
       "      <td>서울 강동구</td>\n",
       "    </tr>\n",
       "    <tr>\n",
       "      <th>1701</th>\n",
       "      <td>서울특별시 강동구 암사동</td>\n",
       "      <td>675</td>\n",
       "      <td>675.0</td>\n",
       "      <td>0.0</td>\n",
       "      <td>힐스테이트 강동 리버뷰</td>\n",
       "      <td>84.9921</td>\n",
       "      <td>202204</td>\n",
       "      <td>1</td>\n",
       "      <td>164000</td>\n",
       "      <td>23</td>\n",
       "      <td>2019.0</td>\n",
       "      <td>올림픽로91길 30</td>\n",
       "      <td>NaN</td>\n",
       "      <td>중개거래</td>\n",
       "      <td>서울 강동구</td>\n",
       "    </tr>\n",
       "    <tr>\n",
       "      <th>1702</th>\n",
       "      <td>서울특별시 강동구 암사동</td>\n",
       "      <td>675</td>\n",
       "      <td>675.0</td>\n",
       "      <td>0.0</td>\n",
       "      <td>힐스테이트 강동 리버뷰</td>\n",
       "      <td>84.9628</td>\n",
       "      <td>202205</td>\n",
       "      <td>6</td>\n",
       "      <td>152000</td>\n",
       "      <td>7</td>\n",
       "      <td>2019.0</td>\n",
       "      <td>올림픽로91길 30</td>\n",
       "      <td>NaN</td>\n",
       "      <td>중개거래</td>\n",
       "      <td>경기 성남분당구</td>\n",
       "    </tr>\n",
       "  </tbody>\n",
       "</table>\n",
       "<p>78 rows × 15 columns</p>\n",
       "</div>"
      ],
      "text/plain": [
       "                시군구     번지     본번   부번           단지명   전용면적(㎡)    계약년월  계약일  \\\n",
       "1625  서울특별시 강동구 암사동  466-3  466.0  3.0         내일쎄닛빌  111.4000  202205   11   \n",
       "1626  서울특별시 강동구 암사동    461  461.0  0.0            대원   59.9000  202201   17   \n",
       "1627  서울특별시 강동구 암사동  501-4  501.0  4.0         동양넥스빌   84.6800  202205   10   \n",
       "1628  서울특별시 강동구 암사동  414-2  414.0  2.0       롯데캐슬퍼스트   59.9900  202109    8   \n",
       "1629  서울특별시 강동구 암사동  414-2  414.0  2.0       롯데캐슬퍼스트   59.9900  202109   11   \n",
       "...             ...    ...    ...  ...           ...       ...     ...  ...   \n",
       "1698  서울특별시 강동구 암사동    400  400.0  0.0         현대홈타운   84.9800  202204   20   \n",
       "1699  서울특별시 강동구 암사동    400  400.0  0.0         현대홈타운  114.0700  202205   30   \n",
       "1700  서울특별시 강동구 암사동    675  675.0  0.0  힐스테이트 강동 리버뷰   84.9979  202203   29   \n",
       "1701  서울특별시 강동구 암사동    675  675.0  0.0  힐스테이트 강동 리버뷰   84.9921  202204    1   \n",
       "1702  서울특별시 강동구 암사동    675  675.0  0.0  힐스테이트 강동 리버뷰   84.9628  202205    6   \n",
       "\n",
       "      거래금액(만원)   층    건축년도         도로명  해제사유발생일  거래유형          중개사소재지  \n",
       "1625     72000   9  2007.0  고덕로20나길 49      NaN   직거래               -  \n",
       "1626     72500  12  1998.0      고덕로 52      NaN  중개거래  서울 강남구, 서울 강동구  \n",
       "1627     80000  10  1999.0      상암로 41      NaN  중개거래          서울 강동구  \n",
       "1628    129700  18  2008.0     고덕로 131      NaN     -               -  \n",
       "1629    125500   3  2008.0     고덕로 131      NaN     -               -  \n",
       "...        ...  ..     ...         ...      ...   ...             ...  \n",
       "1698    137500  18  2004.0   고덕로27길 36      NaN  중개거래          서울 강동구  \n",
       "1699    155000  11  2004.0   고덕로27길 36      NaN  중개거래          서울 강동구  \n",
       "1700    130000   4  2019.0  올림픽로91길 30      NaN  중개거래          서울 강동구  \n",
       "1701    164000  23  2019.0  올림픽로91길 30      NaN  중개거래          서울 강동구  \n",
       "1702    152000   7  2019.0  올림픽로91길 30      NaN  중개거래        경기 성남분당구  \n",
       "\n",
       "[78 rows x 15 columns]"
      ]
     },
     "execution_count": 50,
     "metadata": {},
     "output_type": "execute_result"
    }
   ],
   "source": [
    "apt_price[ bidx ] # True"
   ]
  },
  {
   "cell_type": "code",
   "execution_count": 51,
   "id": "cbd18f92",
   "metadata": {},
   "outputs": [
    {
     "data": {
      "text/plain": [
       "array([[0, 1, 2],\n",
       "       [3, 4, 5],\n",
       "       [6, 7, 8]])"
      ]
     },
     "execution_count": 51,
     "metadata": {},
     "output_type": "execute_result"
    }
   ],
   "source": [
    "arr5"
   ]
  },
  {
   "cell_type": "code",
   "execution_count": 52,
   "id": "392c8707",
   "metadata": {},
   "outputs": [
    {
     "data": {
      "text/plain": [
       "(2, 4)"
      ]
     },
     "execution_count": 52,
     "metadata": {},
     "output_type": "execute_result"
    }
   ],
   "source": [
    "arr5[ 0,2 ], arr5[1,1]"
   ]
  },
  {
   "cell_type": "code",
   "execution_count": 53,
   "id": "75e57c3b",
   "metadata": {},
   "outputs": [
    {
     "data": {
      "text/plain": [
       "array([2, 4])"
      ]
     },
     "execution_count": 53,
     "metadata": {},
     "output_type": "execute_result"
    }
   ],
   "source": [
    "#팬시 인덱싱\n",
    "arr5[ [ 0,1], [2,1] ]"
   ]
  },
  {
   "cell_type": "code",
   "execution_count": 54,
   "id": "5a811900",
   "metadata": {},
   "outputs": [
    {
     "data": {
      "text/plain": [
       "array([0, 1, 2])"
      ]
     },
     "execution_count": 54,
     "metadata": {},
     "output_type": "execute_result"
    }
   ],
   "source": [
    "arr5[0, :]"
   ]
  },
  {
   "cell_type": "code",
   "execution_count": 55,
   "id": "67215dfb",
   "metadata": {},
   "outputs": [
    {
     "data": {
      "text/plain": [
       "array([0, 3, 6])"
      ]
     },
     "execution_count": 55,
     "metadata": {},
     "output_type": "execute_result"
    }
   ],
   "source": [
    "arr5[:, 0]"
   ]
  },
  {
   "cell_type": "code",
   "execution_count": 61,
   "id": "d9c8c409",
   "metadata": {},
   "outputs": [
    {
     "data": {
      "text/plain": [
       "array([[1, 2],\n",
       "       [4, 5]])"
      ]
     },
     "execution_count": 61,
     "metadata": {},
     "output_type": "execute_result"
    }
   ],
   "source": [
    "arr5[:2, 1:]"
   ]
  },
  {
   "cell_type": "code",
   "execution_count": 62,
   "id": "ff5dd381",
   "metadata": {},
   "outputs": [
    {
     "data": {
      "text/plain": [
       "array([[7, 8]])"
      ]
     },
     "execution_count": 62,
     "metadata": {},
     "output_type": "execute_result"
    }
   ],
   "source": [
    "arr5[-1:, 1:3]"
   ]
  },
  {
   "cell_type": "code",
   "execution_count": 64,
   "id": "dc9c4421",
   "metadata": {},
   "outputs": [
    {
     "data": {
      "text/plain": [
       "array([[0, 1, 2],\n",
       "       [3, 4, 5],\n",
       "       [6, 7, 8]])"
      ]
     },
     "execution_count": 64,
     "metadata": {},
     "output_type": "execute_result"
    }
   ],
   "source": [
    "arr5"
   ]
  },
  {
   "cell_type": "code",
   "execution_count": 66,
   "id": "04887a95",
   "metadata": {},
   "outputs": [
    {
     "data": {
      "text/plain": [
       "array([1, 4, 7])"
      ]
     },
     "execution_count": 66,
     "metadata": {},
     "output_type": "execute_result"
    }
   ],
   "source": [
    "b = arr5[:, 1]\n",
    "b"
   ]
  },
  {
   "cell_type": "code",
   "execution_count": 67,
   "id": "94fd50f8",
   "metadata": {},
   "outputs": [
    {
     "data": {
      "text/plain": [
       "array([[ 0, 10,  2],\n",
       "       [ 3,  4,  5],\n",
       "       [ 6,  7,  8]])"
      ]
     },
     "execution_count": 67,
     "metadata": {},
     "output_type": "execute_result"
    }
   ],
   "source": [
    "b[0] = 10\n",
    "arr5"
   ]
  },
  {
   "cell_type": "code",
   "execution_count": 69,
   "id": "194b97be",
   "metadata": {},
   "outputs": [
    {
     "data": {
      "text/plain": [
       "array([10,  4,  7])"
      ]
     },
     "execution_count": 69,
     "metadata": {},
     "output_type": "execute_result"
    }
   ],
   "source": [
    "b = arr5[:,1].copy() #복사본\n",
    "b"
   ]
  },
  {
   "cell_type": "code",
   "execution_count": 71,
   "id": "c02af178",
   "metadata": {},
   "outputs": [
    {
     "data": {
      "text/plain": [
       "array([[ 0, 10,  2],\n",
       "       [ 3,  4,  5],\n",
       "       [ 6,  7,  8]])"
      ]
     },
     "execution_count": 71,
     "metadata": {},
     "output_type": "execute_result"
    }
   ],
   "source": [
    "b[0] = 1\n",
    "arr5"
   ]
  },
  {
   "cell_type": "code",
   "execution_count": 73,
   "id": "98216c2f",
   "metadata": {},
   "outputs": [
    {
     "data": {
      "text/plain": [
       "(array([0, 0, 0, 1, 2, 2], dtype=int64),\n",
       " array([0, 1, 2, 1, 0, 2], dtype=int64))"
      ]
     },
     "execution_count": 73,
     "metadata": {},
     "output_type": "execute_result"
    }
   ],
   "source": [
    "# 중요 np.where\n",
    "np.where(arr5 % 2 == 0)"
   ]
  },
  {
   "cell_type": "code",
   "execution_count": 74,
   "id": "3d7fa0a3",
   "metadata": {},
   "outputs": [
    {
     "data": {
      "text/plain": [
       "array([['짝수', '짝수', '짝수'],\n",
       "       ['홀수', '짝수', '홀수'],\n",
       "       ['짝수', '홀수', '짝수']], dtype='<U2')"
      ]
     },
     "execution_count": 74,
     "metadata": {},
     "output_type": "execute_result"
    }
   ],
   "source": [
    "np.where(arr5 % 2 == 0, \"짝수\", \"홀수\")"
   ]
  },
  {
   "cell_type": "code",
   "execution_count": 76,
   "id": "33ed3cd7",
   "metadata": {},
   "outputs": [
    {
     "data": {
      "text/plain": [
       "array([['짝수', '짝수', '짝수'],\n",
       "       ['3', '짝수', '5'],\n",
       "       ['짝수', '7', '짝수']], dtype='<U11')"
      ]
     },
     "execution_count": 76,
     "metadata": {},
     "output_type": "execute_result"
    }
   ],
   "source": [
    "# 조건에 맞는 항목은 \"짝수\", 아니면 원래값으로 유지\n",
    "np.where(arr5 % 2 == 0, \"짝수\", arr5)"
   ]
  },
  {
   "cell_type": "code",
   "execution_count": 79,
   "id": "59c4deb9",
   "metadata": {},
   "outputs": [
    {
     "data": {
      "text/plain": [
       "45"
      ]
     },
     "execution_count": 79,
     "metadata": {},
     "output_type": "execute_result"
    }
   ],
   "source": [
    "# 중요 axis(축)\n",
    "arr5.sum()"
   ]
  },
  {
   "cell_type": "code",
   "execution_count": 81,
   "id": "d367d795",
   "metadata": {},
   "outputs": [
    {
     "data": {
      "text/plain": [
       "array([ 9, 21, 15])"
      ]
     },
     "execution_count": 81,
     "metadata": {},
     "output_type": "execute_result"
    }
   ],
   "source": [
    "arr5.sum(axis = 0)"
   ]
  },
  {
   "cell_type": "code",
   "execution_count": 82,
   "id": "1d091296",
   "metadata": {},
   "outputs": [
    {
     "data": {
      "text/plain": [
       "array([12, 12, 21])"
      ]
     },
     "execution_count": 82,
     "metadata": {},
     "output_type": "execute_result"
    }
   ],
   "source": [
    "arr5.sum(axis = 1)"
   ]
  }
 ],
 "metadata": {
  "kernelspec": {
   "display_name": "Python 3 (ipykernel)",
   "language": "python",
   "name": "python3"
  },
  "language_info": {
   "codemirror_mode": {
    "name": "ipython",
    "version": 3
   },
   "file_extension": ".py",
   "mimetype": "text/x-python",
   "name": "python",
   "nbconvert_exporter": "python",
   "pygments_lexer": "ipython3",
   "version": "3.9.12"
  }
 },
 "nbformat": 4,
 "nbformat_minor": 5
}
