{
 "cells": [
  {
   "cell_type": "code",
   "execution_count": 1,
   "id": "9c495e1b",
   "metadata": {},
   "outputs": [
    {
     "name": "stdout",
     "output_type": "stream",
     "text": [
      "None\n"
     ]
    }
   ],
   "source": [
    "# 함수호출\n",
    "# 파라미터 전달\n",
    "def my_prn():\n",
    "    a = 3\n",
    "    \n",
    "ans = my_prn() # 반환 값이 없는 함수호출. None반환\n",
    "print(ans)\n",
    "\n",
    "# 위치 매개변수\n",
    "# 선언된 순서대로 대입하는 것\n",
    "\n"
   ]
  },
  {
   "cell_type": "code",
   "execution_count": null,
   "id": "1f4e1595",
   "metadata": {},
   "outputs": [],
   "source": [
    "# 키워드 매개변수\n",
    "# 순서에 상관없이 호출 가능 이름은 선언된 이름만 사용가능\n",
    "def my_minus(num1, num2):\n",
    "    return num1 - num2\n",
    "my_minus(num2=100, num3=200)\n",
    "# 오류 발생 num1, num2를 호출했는데 num3을 불러냄"
   ]
  },
  {
   "cell_type": "code",
   "execution_count": null,
   "id": "ec307f7c",
   "metadata": {},
   "outputs": [],
   "source": [
    "# 위치 매개변수의 가변 매개변수 => *\n",
    "# 키워드 매개변수에 대한 가변 매개변수 => **"
   ]
  },
  {
   "cell_type": "code",
   "execution_count": 2,
   "id": "83d95ca2",
   "metadata": {},
   "outputs": [],
   "source": [
    "def calc_many(choice, **args):\n",
    "    pass # return 아님 실행하지 않는 명령어를 뜻함\n",
    "    if choice == \"mul\":\n",
    "        ret = 1\n",
    "        for a in args:\n",
    "            ret *= a\n",
    "        return ret\n",
    "    if choice == \"sum\":\n",
    "        return sum(args)\n",
    "    \n",
    "    \n",
    "    calc_mamy(\"mul\", 3,5,7)\n",
    "    calc_many(\"sum\", 2,4,6)"
   ]
  },
  {
   "cell_type": "code",
   "execution_count": null,
   "id": "e3caa288",
   "metadata": {},
   "outputs": [],
   "source": [
    "# 클래스를 이용하는 이유, 장점\n",
    "# 데이터 보호"
   ]
  },
  {
   "cell_type": "code",
   "execution_count": 6,
   "id": "096908b4",
   "metadata": {},
   "outputs": [
    {
     "data": {
      "text/plain": [
       "70.0"
      ]
     },
     "execution_count": 6,
     "metadata": {},
     "output_type": "execute_result"
    }
   ],
   "source": [
    "# 클래스 사용하지 않고 학생 정보관리\n",
    "names = [\"홍\", \"김\", \"박\"]\n",
    "eng_scores = [70,80,60]\n",
    "\n",
    "def calc_avg():\n",
    "    return sum(eng_scores) / len(names)\n",
    "\n",
    "calc_avg()"
   ]
  },
  {
   "cell_type": "code",
   "execution_count": 11,
   "id": "2768d717",
   "metadata": {},
   "outputs": [
    {
     "data": {
      "text/plain": [
       "70.0"
      ]
     },
     "execution_count": 11,
     "metadata": {},
     "output_type": "execute_result"
    }
   ],
   "source": [
    "# 클래스 사용하는 학생정보 관리\n",
    "class StudentManager():\n",
    "    def __init__(self):\n",
    "\n",
    "        self.names = [\"홍\", \"김\", \"박\"]\n",
    "        self.eng_scores = [70,80,60]\n",
    "        \n",
    "    def calc_avg(self):\n",
    "        pass\n",
    "        return sum(self.eng_scores) / len(self.names)\n",
    "        \n",
    "sm = StudentManager() # 객체생성\n",
    "sm.calc_avg()"
   ]
  },
  {
   "cell_type": "code",
   "execution_count": 14,
   "id": "05b28023",
   "metadata": {},
   "outputs": [
    {
     "data": {
      "text/plain": [
       "37"
      ]
     },
     "execution_count": 14,
     "metadata": {},
     "output_type": "execute_result"
    }
   ],
   "source": [
    "import random\n",
    "random.randint(1,45) # 1~45중 난수 생성"
   ]
  },
  {
   "cell_type": "code",
   "execution_count": 15,
   "id": "9689ceb0",
   "metadata": {},
   "outputs": [
    {
     "data": {
      "text/plain": [
       "20"
      ]
     },
     "execution_count": 15,
     "metadata": {},
     "output_type": "execute_result"
    }
   ],
   "source": [
    "import random as rd # 모듈내 함수만 로딩\n",
    "rd.randint(1,45) # 모듈명 없이 함수명만 사용"
   ]
  },
  {
   "cell_type": "code",
   "execution_count": 18,
   "id": "47850124",
   "metadata": {},
   "outputs": [
    {
     "data": {
      "text/plain": [
       "15"
      ]
     },
     "execution_count": 18,
     "metadata": {},
     "output_type": "execute_result"
    }
   ],
   "source": [
    "from random import randint as rdi # 모듈내 함수에 별명 정의\n",
    "rdi(1,45)"
   ]
  }
 ],
 "metadata": {
  "kernelspec": {
   "display_name": "Python 3 (ipykernel)",
   "language": "python",
   "name": "python3"
  },
  "language_info": {
   "codemirror_mode": {
    "name": "ipython",
    "version": 3
   },
   "file_extension": ".py",
   "mimetype": "text/x-python",
   "name": "python",
   "nbconvert_exporter": "python",
   "pygments_lexer": "ipython3",
   "version": "3.9.12"
  }
 },
 "nbformat": 4,
 "nbformat_minor": 5
}
