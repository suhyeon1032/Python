{
 "cells": [
  {
   "cell_type": "markdown",
   "id": "e251228f",
   "metadata": {},
   "source": [
    "# 크롤링(Crawling, Scraping)\n",
    "* 웹 페이지에서 필요한 자료를 추출"
   ]
  },
  {
   "cell_type": "markdown",
   "id": "db725394",
   "metadata": {},
   "source": [
    "## 일기예보 크롤링"
   ]
  },
  {
   "cell_type": "code",
   "execution_count": 7,
   "id": "5d3d53ab",
   "metadata": {},
   "outputs": [
    {
     "data": {
      "text/plain": [
       "'대전광역시 유성구 온천1동'"
      ]
     },
     "execution_count": 7,
     "metadata": {},
     "output_type": "execute_result"
    }
   ],
   "source": [
    "url = \"http://www.kma.go.kr/wid/queryDFSRSS.jsp?zone=3020053000\"\n",
    "import requests\n",
    "res = requests.get(url)\n",
    "# res.text\n",
    "from bs4 import BeautifulSoup\n",
    "bs = BeautifulSoup(res.text, \"html.parser\") # XML 분해\n",
    "bs.select_one(\"category\").string # 한 개 태그 검색용 # .string => 태그 없이 글자만 보여주기\n",
    "# bs.select(\"\") # 여러개 캐그 검색용 : 리스트 반환\n"
   ]
  },
  {
   "cell_type": "code",
   "execution_count": 23,
   "id": "c1236c19",
   "metadata": {},
   "outputs": [
    {
     "name": "stdout",
     "output_type": "stream",
     "text": [
      "갯수 19\n"
     ]
    },
    {
     "data": {
      "text/plain": [
       "[{'hour': '18', 'day': '오늘', 'wfkor': '구름 많음'},\n",
       " {'hour': '21', 'day': '오늘', 'wfkor': '흐림'},\n",
       " {'hour': '24', 'day': '오늘', 'wfkor': '흐림'},\n",
       " {'hour': '3', 'day': '내일', 'wfkor': '흐림'},\n",
       " {'hour': '6', 'day': '내일', 'wfkor': '구름 많음'},\n",
       " {'hour': '9', 'day': '내일', 'wfkor': '흐림'},\n",
       " {'hour': '12', 'day': '내일', 'wfkor': '맑음'},\n",
       " {'hour': '15', 'day': '내일', 'wfkor': '구름 많음'},\n",
       " {'hour': '18', 'day': '내일', 'wfkor': '구름 많음'},\n",
       " {'hour': '21', 'day': '내일', 'wfkor': '맑음'},\n",
       " {'hour': '24', 'day': '내일', 'wfkor': '맑음'},\n",
       " {'hour': '3', 'day': '모레', 'wfkor': '구름 많음'},\n",
       " {'hour': '6', 'day': '모레', 'wfkor': '흐림'},\n",
       " {'hour': '9', 'day': '모레', 'wfkor': '흐림'},\n",
       " {'hour': '12', 'day': '모레', 'wfkor': '흐림'},\n",
       " {'hour': '15', 'day': '모레', 'wfkor': '흐림'},\n",
       " {'hour': '18', 'day': '모레', 'wfkor': '흐림'},\n",
       " {'hour': '21', 'day': '모레', 'wfkor': '구름 많음'},\n",
       " {'hour': '24', 'day': '모레', 'wfkor': '맑음'}]"
      ]
     },
     "execution_count": 23,
     "metadata": {},
     "output_type": "execute_result"
    }
   ],
   "source": [
    "# 일기예보데이터는 <data>에 3시간단위로 저장\n",
    "data_list = bs.select(\"data\")\n",
    "print(\"갯수\", len(data_list))\n",
    "data_arr = []\n",
    "days = {\"0\":\"오늘\", \"1\":\"내일\", \"2\":\"모레\"}\n",
    "for dt in data_list:\n",
    "    data_dict = dict() # 일기정보 저장용\n",
    "    data_dict['hour'] = dt.select_one(\"hour\").string\n",
    "    data_dict['day'] = dt.select_one(\"day\").string\n",
    "    data_dict['day'] = days[data_dict['day']]\n",
    "    data_dict['wfkor'] = dt.select_one(\"wfkor\").string\n",
    "    data_arr.append( data_dict )    \n",
    "data_arr"
   ]
  },
  {
   "cell_type": "code",
   "execution_count": null,
   "id": "0bd6959c",
   "metadata": {},
   "outputs": [],
   "source": []
  },
  {
   "cell_type": "markdown",
   "id": "fa705d1d",
   "metadata": {},
   "source": [
    "## KOVO 배구연맹 경기결과 크롤링"
   ]
  },
  {
   "cell_type": "code",
   "execution_count": 27,
   "id": "ae2a884c",
   "metadata": {},
   "outputs": [
    {
     "name": "stderr",
     "output_type": "stream",
     "text": [
      "C:\\Users\\Admin\\anaconda3\\lib\\site-packages\\urllib3\\connectionpool.py:1043: InsecureRequestWarning: Unverified HTTPS request is being made to host 'www.kovo.co.kr'. Adding certificate verification is strongly advised. See: https://urllib3.readthedocs.io/en/1.26.x/advanced-usage.html#ssl-warnings\n",
      "  warnings.warn(\n"
     ]
    }
   ],
   "source": [
    "url = \"https://www.kovo.co.kr/game/v-league/11110_schedule_list.asp\"\n",
    "import requests\n",
    "res = requests.get(url, verify=False).text"
   ]
  },
  {
   "cell_type": "code",
   "execution_count": 53,
   "id": "7f1adee2",
   "metadata": {},
   "outputs": [],
   "source": [
    "from bs4 import BeautifulSoup\n",
    "bs = BeautifulSoup(res, \"html.parser\")\n",
    "# len( bs.select(\"table.lst_schedule\"))\n",
    "tbl = bs.select_one(\"table.lst_schedule\")\n",
    "tbl_tr = tbl.select(\"tr\") # 경기 결과가 있는 행 여러개\n",
    "for tr in tbl_tr :\n",
    "    #print(len(tr.select(\"td.tright\")))\n",
    "    \n",
    "    if len(tr.select(\"td.tright\")) == 0:\n",
    "        continue # td.tright가 없으면 다음 행으로\n",
    "    game_result = tr.select_one(\"td.tright\").get_text()\n",
    "    game_result += tr.select_one(\"td.tleft\").get_text()\n",
    "    print(game_result)\n",
    "    # 경기 결과 왼쪽에 경기 날짜를 추가하여 출력\n",
    "    #game_data = tr.select_one(\"td.data\").get_text()\n",
    "    \n"
   ]
  },
  {
   "cell_type": "code",
   "execution_count": null,
   "id": "0b6ac0f1",
   "metadata": {},
   "outputs": [],
   "source": []
  }
 ],
 "metadata": {
  "kernelspec": {
   "display_name": "Python 3 (ipykernel)",
   "language": "python",
   "name": "python3"
  },
  "language_info": {
   "codemirror_mode": {
    "name": "ipython",
    "version": 3
   },
   "file_extension": ".py",
   "mimetype": "text/x-python",
   "name": "python",
   "nbconvert_exporter": "python",
   "pygments_lexer": "ipython3",
   "version": "3.9.12"
  }
 },
 "nbformat": 4,
 "nbformat_minor": 5
}
