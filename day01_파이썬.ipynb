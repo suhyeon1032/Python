{
 "cells": [
  {
   "cell_type": "code",
   "execution_count": null,
   "id": "1930bdfa",
   "metadata": {},
   "outputs": [],
   "source": []
  },
  {
   "cell_type": "code",
   "execution_count": 21,
   "id": "e9654b2f",
   "metadata": {},
   "outputs": [
    {
     "data": {
      "text/plain": [
       "True"
      ]
     },
     "execution_count": 21,
     "metadata": {},
     "output_type": "execute_result"
    }
   ],
   "source": [
    "bool(None) # False\n",
    "bool([]) # False\n",
    "bool( set() ) # False\n",
    "bool( dict() ) # False\n",
    "bool( '' ) # False 빈 문자열\n",
    "bool(\" \") # True 공백문자열"
   ]
  },
  {
   "cell_type": "code",
   "execution_count": 14,
   "id": "ca48c0cc",
   "metadata": {},
   "outputs": [
    {
     "data": {
      "text/plain": [
       "'분'"
      ]
     },
     "execution_count": 14,
     "metadata": {},
     "output_type": "execute_result"
    }
   ],
   "source": [
    "myStr[3]dd"
   ]
  },
  {
   "cell_type": "code",
   "execution_count": 22,
   "id": "a8a7e49b",
   "metadata": {},
   "outputs": [],
   "source": [
    "s1 = \"\"\"구름에 \n",
    "달가듯이 \n",
    "가는 \n",
    "나그네\"\"\"\n",
    "# EOL => End Of Line"
   ]
  },
  {
   "cell_type": "code",
   "execution_count": null,
   "id": "4ff53a45",
   "metadata": {},
   "outputs": [],
   "source": []
  },
  {
   "cell_type": "markdown",
   "id": "bec4a126",
   "metadata": {},
   "source": [
    "### 시험!"
   ]
  },
  {
   "cell_type": "code",
   "execution_count": 56,
   "id": "5db3446b",
   "metadata": {},
   "outputs": [
    {
     "ename": "SyntaxError",
     "evalue": "invalid syntax (2334145323.py, line 3)",
     "output_type": "error",
     "traceback": [
      "\u001b[1;36m  Input \u001b[1;32mIn [56]\u001b[1;36m\u001b[0m\n\u001b[1;33m    [시작 이상 : 끝 미만]\u001b[0m\n\u001b[1;37m        ^\u001b[0m\n\u001b[1;31mSyntaxError\u001b[0m\u001b[1;31m:\u001b[0m invalid syntax\n"
     ]
    }
   ],
   "source": [
    "# 인덱싱 : 1개 추출\n",
    "# 슬라이싱 : 연속해서 여러개 추출\n",
    "[시작 이상 : 끝 미만]\n",
    "[: 끝 ] 시작 생략시 0부터\n",
    "[시작 : ] 끝 생략 끝까지\n",
    "\"python\" [ :2] => py\n",
    "\"python\" [2: ] => thon\n",
    "[시작 : 끝 : 간격] 간격 기본은 1\n",
    "[::-1] 문자열을 역순으로 추출"
   ]
  },
  {
   "cell_type": "code",
   "execution_count": 23,
   "id": "4b068478",
   "metadata": {},
   "outputs": [
    {
     "data": {
      "text/plain": [
       "'nohtyp'"
      ]
     },
     "execution_count": 23,
     "metadata": {},
     "output_type": "execute_result"
    }
   ],
   "source": [
    "'python' [::-1]"
   ]
  },
  {
   "cell_type": "code",
   "execution_count": 25,
   "id": "5e0ae393",
   "metadata": {},
   "outputs": [],
   "source": [
    "## 문자열\n",
    "더하기 연산자는 양쪽의 type이 같아야 한다.\n",
    "문자열끼리는 문자열 결합\n",
    "정수끼리는 덧셈\n",
    "문자열 + 정수 결합하는 법 => 정수는 srt()로 감싼다"
   ]
  },
  {
   "cell_type": "code",
   "execution_count": 30,
   "id": "4b66d65e",
   "metadata": {},
   "outputs": [
    {
     "data": {
      "text/plain": [
       "'홍길동의 나이는 30'"
      ]
     },
     "execution_count": 30,
     "metadata": {},
     "output_type": "execute_result"
    }
   ],
   "source": [
    "age = 30\n",
    "\"홍길동의 나이는 \" + str(age)"
   ]
  },
  {
   "cell_type": "code",
   "execution_count": 34,
   "id": "dcb5b948",
   "metadata": {},
   "outputs": [
    {
     "data": {
      "text/plain": [
       "'홍길동 나이는 30'"
      ]
     },
     "execution_count": 34,
     "metadata": {},
     "output_type": "execute_result"
    }
   ],
   "source": [
    "# 문자열 포맷팅 3가지(출력 형식 정하기)\n",
    "# 1.    %\n",
    "name = \"홍길동\"\n",
    "gae =  30\n",
    "\"%s 나이는 %d\" % (name,age)\n",
    "# %를 통해서 순서대로 치환시키는 방법"
   ]
  },
  {
   "cell_type": "code",
   "execution_count": 35,
   "id": "00c00522",
   "metadata": {},
   "outputs": [
    {
     "data": {
      "text/plain": [
       "'홍길동 나이는 30'"
      ]
     },
     "execution_count": 35,
     "metadata": {},
     "output_type": "execute_result"
    }
   ],
   "source": [
    "# 2.    str.format\n",
    "\"{} 나이는 {}\".format(name, age)"
   ]
  },
  {
   "cell_type": "code",
   "execution_count": 37,
   "id": "3caec3a9",
   "metadata": {},
   "outputs": [
    {
     "data": {
      "text/plain": [
       "'홍길동 나이는 30, 태어난 연도는 1992년'"
      ]
     },
     "execution_count": 37,
     "metadata": {},
     "output_type": "execute_result"
    }
   ],
   "source": [
    "# 3.   f-string, 파이썬 3.6 이상부터 사용가능\n",
    "f\"{name} 나이는 {gae}, 태어난 연도는 {2022 - age}년\""
   ]
  },
  {
   "cell_type": "code",
   "execution_count": 46,
   "id": "bbf6b290",
   "metadata": {},
   "outputs": [
    {
     "data": {
      "text/plain": [
       "['1', 'B', 'C', 'D']"
      ]
     },
     "execution_count": 46,
     "metadata": {},
     "output_type": "execute_result"
    }
   ],
   "source": [
    "# 문자열을 구분자 기준으로 분할, 리스트 반환\n",
    "arr = \"A:B:C:D\".split(\":\")\n",
    "arr"
   ]
  },
  {
   "cell_type": "code",
   "execution_count": 49,
   "id": "22809131",
   "metadata": {},
   "outputs": [
    {
     "data": {
      "text/plain": [
       "'1--B--C--D'"
      ]
     },
     "execution_count": 49,
     "metadata": {},
     "output_type": "execute_result"
    }
   ],
   "source": [
    "# 리스트를 구분자로 연결한 문자열로 생성\n",
    "\"--\".join(arr)"
   ]
  },
  {
   "cell_type": "code",
   "execution_count": 50,
   "id": "f11f8c38",
   "metadata": {},
   "outputs": [
    {
     "ename": "TypeError",
     "evalue": "sequence item 0: expected str instance, int found",
     "output_type": "error",
     "traceback": [
      "\u001b[1;31m---------------------------------------------------------------------------\u001b[0m",
      "\u001b[1;31mTypeError\u001b[0m                                 Traceback (most recent call last)",
      "Input \u001b[1;32mIn [50]\u001b[0m, in \u001b[0;36m<cell line: 3>\u001b[1;34m()\u001b[0m\n\u001b[0;32m      1\u001b[0m \u001b[38;5;66;03m# 숫자가 들어간 리스트를 조인하면 오류가 발생한다.\u001b[39;00m\n\u001b[0;32m      2\u001b[0m arr \u001b[38;5;241m=\u001b[39m [\u001b[38;5;241m1\u001b[39m,\u001b[38;5;241m3\u001b[39m,\u001b[38;5;241m5\u001b[39m]\n\u001b[1;32m----> 3\u001b[0m \u001b[38;5;124;43m\"\u001b[39;49m\u001b[38;5;124;43m--\u001b[39;49m\u001b[38;5;124;43m\"\u001b[39;49m\u001b[38;5;241;43m.\u001b[39;49m\u001b[43mjoin\u001b[49m\u001b[43m(\u001b[49m\u001b[43marr\u001b[49m\u001b[43m)\u001b[49m\n",
      "\u001b[1;31mTypeError\u001b[0m: sequence item 0: expected str instance, int found"
     ]
    }
   ],
   "source": [
    "# 숫자가 들어간 리스트를 조인하면 오류가 발생한다.\n",
    "arr = [1,3,5]\n",
    "\"--\".join(arr)\n",
    "# TypeError: sequence item 0: expected str instance, int found\n",
    "# str이 와야하는데 int가 와서 오류 발생"
   ]
  },
  {
   "cell_type": "code",
   "execution_count": 52,
   "id": "07cc6728",
   "metadata": {},
   "outputs": [
    {
     "name": "stdout",
     "output_type": "stream",
     "text": [
      "나이를 입력하세요 : 20\n"
     ]
    }
   ],
   "source": [
    "ans = input(\"나이를 입력하세요 : \")"
   ]
  },
  {
   "cell_type": "code",
   "execution_count": 53,
   "id": "e589aa60",
   "metadata": {},
   "outputs": [
    {
     "ename": "TypeError",
     "evalue": "unsupported operand type(s) for -: 'int' and 'str'",
     "output_type": "error",
     "traceback": [
      "\u001b[1;31m---------------------------------------------------------------------------\u001b[0m",
      "\u001b[1;31mTypeError\u001b[0m                                 Traceback (most recent call last)",
      "Input \u001b[1;32mIn [53]\u001b[0m, in \u001b[0;36m<cell line: 1>\u001b[1;34m()\u001b[0m\n\u001b[1;32m----> 1\u001b[0m \u001b[38;5;241;43m2022\u001b[39;49m\u001b[43m \u001b[49m\u001b[38;5;241;43m-\u001b[39;49m\u001b[43m \u001b[49m\u001b[43mans\u001b[49m\n",
      "\u001b[1;31mTypeError\u001b[0m: unsupported operand type(s) for -: 'int' and 'str'"
     ]
    }
   ],
   "source": [
    "# int - 문자열 오류\n",
    "2022 - ans\n",
    "#TypeError: unsupported operand type(s) for -: 'int' and 'str'"
   ]
  },
  {
   "cell_type": "code",
   "execution_count": 55,
   "id": "0f611094",
   "metadata": {},
   "outputs": [
    {
     "data": {
      "text/plain": [
       "'나이가 20이면 태어난 해는 2002년 이네요'"
      ]
     },
     "execution_count": 55,
     "metadata": {},
     "output_type": "execute_result"
    }
   ],
   "source": [
    "#int type으로 변환\n",
    "f\"나이가 {ans}이면 태어난 해는 {2022 - int(ans)}년 이네요\""
   ]
  },
  {
   "cell_type": "code",
   "execution_count": null,
   "id": "42a23a35",
   "metadata": {},
   "outputs": [],
   "source": [
    "HDD (ssd 아님) : seek time 60ms(60초/1000초)\n",
    "DRAM seek time = 60ns(60 / 1e-9)"
   ]
  },
  {
   "cell_type": "markdown",
   "id": "c7340a8d",
   "metadata": {},
   "source": [
    "### 시험!"
   ]
  },
  {
   "cell_type": "code",
   "execution_count": 60,
   "id": "9c67bbdb",
   "metadata": {},
   "outputs": [],
   "source": [
    "# 2차원 데이터 \n",
    "mylist = [1,3,5] # 1,3,5 -> item(항목) -> 저장된 값 -> 1차원\n",
    "mylist = [ [1,2], [2,3], [3,4] ] # 2차원\n",
    "# 부를땐 행이 먼저 열이 나중에 \n",
    "#           열\n",
    "#행         1 2\n",
    "#           3 4"
   ]
  },
  {
   "cell_type": "code",
   "execution_count": 65,
   "id": "1b8811ab",
   "metadata": {},
   "outputs": [
    {
     "data": {
      "text/plain": [
       "2"
      ]
     },
     "execution_count": 65,
     "metadata": {},
     "output_type": "execute_result"
    }
   ],
   "source": [
    "mylist[0] #0 행 [1,2]\n",
    "mylist[0][1] # 0 행 1열 [1,2]"
   ]
  },
  {
   "cell_type": "code",
   "execution_count": 66,
   "id": "4f833994",
   "metadata": {},
   "outputs": [
    {
     "name": "stdout",
     "output_type": "stream",
     "text": [
      "[1, 2]\n",
      "[2, 3]\n",
      "[3, 4]\n"
     ]
    }
   ],
   "source": [
    "for m in mylist:\n",
    "    print(m)"
   ]
  },
  {
   "cell_type": "code",
   "execution_count": 257,
   "id": "5f90646a",
   "metadata": {},
   "outputs": [
    {
     "data": {
      "text/plain": [
       "[[1, 2], [2, 3], [3, 4]]"
      ]
     },
     "execution_count": 257,
     "metadata": {},
     "output_type": "execute_result"
    }
   ],
   "source": [
    "mylist"
   ]
  },
  {
   "cell_type": "code",
   "execution_count": 72,
   "id": "337d12ba",
   "metadata": {},
   "outputs": [
    {
     "data": {
      "text/plain": [
       "[1, 'c', 'd', 'e', 3]"
      ]
     },
     "execution_count": 72,
     "metadata": {},
     "output_type": "execute_result"
    }
   ],
   "source": [
    "a = [1,2,3]\n",
    "# 슬라이싱\n",
    "안에 추가가됨\n",
    "a[1:2] = ['c','d','e'] \n",
    "a"
   ]
  },
  {
   "cell_type": "code",
   "execution_count": 70,
   "id": "ccd07e93",
   "metadata": {},
   "outputs": [
    {
     "data": {
      "text/plain": [
       "[1, ['c', 'd', 'e'], 'd', 'e', 3]"
      ]
     },
     "execution_count": 70,
     "metadata": {},
     "output_type": "execute_result"
    }
   ],
   "source": [
    "# 인덱싱\n",
    "# 리스트 자체가 들어감\n",
    "a[1] = ['c','d','e']\n",
    "a"
   ]
  },
  {
   "cell_type": "code",
   "execution_count": 75,
   "id": "a893f2cb",
   "metadata": {},
   "outputs": [
    {
     "data": {
      "text/plain": [
       "[1, 'c', 'd', 'e', 3, 4, 4]"
      ]
     },
     "execution_count": 75,
     "metadata": {},
     "output_type": "execute_result"
    }
   ],
   "source": [
    "# append 값 뒤에 추가\n",
    "a.append(4)\n",
    "a\n"
   ]
  },
  {
   "cell_type": "code",
   "execution_count": 76,
   "id": "255bd6b6",
   "metadata": {},
   "outputs": [
    {
     "data": {
      "text/plain": [
       "[4, 1, 'c', 'd', 'e', 3, 4, 4]"
      ]
     },
     "execution_count": 76,
     "metadata": {},
     "output_type": "execute_result"
    }
   ],
   "source": [
    "# insert 값 사이에 추가\n",
    "a.insert(0,4)\n",
    "a"
   ]
  },
  {
   "cell_type": "code",
   "execution_count": 101,
   "id": "0f2d4d8a",
   "metadata": {},
   "outputs": [
    {
     "data": {
      "text/plain": [
       "[4, 3, 2, 1]"
      ]
     },
     "execution_count": 101,
     "metadata": {},
     "output_type": "execute_result"
    }
   ],
   "source": [
    "# sort() 정렬 reverse=True 내림차순\n",
    "a=[1,2,3,4]\n",
    "a.sort(reverse=True)\n",
    "a"
   ]
  },
  {
   "cell_type": "code",
   "execution_count": 99,
   "id": "43081a7e",
   "metadata": {},
   "outputs": [
    {
     "data": {
      "text/plain": [
       "[1, 2, 3, 4]"
      ]
     },
     "execution_count": 99,
     "metadata": {},
     "output_type": "execute_result"
    }
   ],
   "source": [
    "# reverse=False 내림차순\n",
    "a.sort(reverse=False)\n",
    "a\n"
   ]
  },
  {
   "cell_type": "code",
   "execution_count": 102,
   "id": "d619ffc4",
   "metadata": {},
   "outputs": [
    {
     "data": {
      "text/plain": [
       "[1, 2, 3, 4]"
      ]
     },
     "execution_count": 102,
     "metadata": {},
     "output_type": "execute_result"
    }
   ],
   "source": [
    "# .reverse() 원본 자체를 변경\n",
    "a.reverse()\n",
    "a\n",
    " \n",
    "# arr[::-1] # 역순이된 리스트 생성, 반환 => 원본 수정 불가"
   ]
  },
  {
   "cell_type": "code",
   "execution_count": 111,
   "id": "33e983a9",
   "metadata": {},
   "outputs": [
    {
     "data": {
      "text/plain": [
       "['홍', '박', '홍']"
      ]
     },
     "execution_count": 111,
     "metadata": {},
     "output_type": "execute_result"
    }
   ],
   "source": [
    "names = [\"홍\",\"김\",\"박\",\"홍\"]\n",
    "names.pop(1) # 김 삭제\n",
    "names"
   ]
  },
  {
   "cell_type": "code",
   "execution_count": 112,
   "id": "f734b191",
   "metadata": {},
   "outputs": [
    {
     "data": {
      "text/plain": [
       "['박', '홍']"
      ]
     },
     "execution_count": 112,
     "metadata": {},
     "output_type": "execute_result"
    }
   ],
   "source": [
    "names.remove(\"홍\") # \"홍\" 삭제 // 동일한 값이 있으면 첫번째 항만 삭제\n",
    "names"
   ]
  },
  {
   "cell_type": "code",
   "execution_count": 113,
   "id": "aace2cec",
   "metadata": {},
   "outputs": [
    {
     "data": {
      "text/plain": [
       "[1, 3, 5, 4, 7, 9]"
      ]
     },
     "execution_count": 113,
     "metadata": {},
     "output_type": "execute_result"
    }
   ],
   "source": [
    "[1,3,5] + [4,7,9]\n",
    "# list + list는 두개가 더해진 새로운 list가 된다"
   ]
  },
  {
   "cell_type": "code",
   "execution_count": 116,
   "id": "e6a6b9f2",
   "metadata": {},
   "outputs": [
    {
     "data": {
      "text/plain": [
       "[1, 2, 3, 4, 5]"
      ]
     },
     "execution_count": 116,
     "metadata": {},
     "output_type": "execute_result"
    }
   ],
   "source": [
    "# extend() # 기존 list를 확장\n",
    "a = [1,2,3]\n",
    "a.extend([4,5])\n",
    "a"
   ]
  },
  {
   "cell_type": "code",
   "execution_count": 120,
   "id": "fc31936a",
   "metadata": {},
   "outputs": [
    {
     "data": {
      "text/plain": [
       "{'a', 'b', 'c', 'd', 'e'}"
      ]
     },
     "execution_count": 120,
     "metadata": {},
     "output_type": "execute_result"
    }
   ],
   "source": [
    "# 집합 set\n",
    "a = {'a','b','c','d','e'}\n",
    "a"
   ]
  },
  {
   "cell_type": "code",
   "execution_count": 119,
   "id": "68a0c724",
   "metadata": {},
   "outputs": [
    {
     "data": {
      "text/plain": [
       "{'a', 'b', 'c', 'f'}"
      ]
     },
     "execution_count": 119,
     "metadata": {},
     "output_type": "execute_result"
    }
   ],
   "source": [
    "b = set('abcffff') # 중복된 값 거르고 저장\n",
    "b"
   ]
  },
  {
   "cell_type": "code",
   "execution_count": 227,
   "id": "c65ad14f",
   "metadata": {},
   "outputs": [
    {
     "name": "stdout",
     "output_type": "stream",
     "text": [
      "{3, 43} [43, 43, 3]\n"
     ]
    }
   ],
   "source": [
    "# 로또 번호 생성, 저장\n",
    "lotto_list = []\n",
    "lotto_set = set()\n",
    "\n",
    "import random\n",
    "num = random.randint(1,45) # 1이상 45이하\n",
    "lotto_list.append(num)\n",
    "lotto_set.add(num)\n",
    "\n",
    "num = random.randint(1,45) # 1이상 45이하\n",
    "lotto_list.append(num)\n",
    "lotto_set.add(num)\n",
    "\n",
    "num = random.randint(1,45) # 1이상 45이하\n",
    "lotto_list.append(num)\n",
    "lotto_set.add(num)\n",
    "\n",
    "print(lotto_set, lotto_list)"
   ]
  },
  {
   "cell_type": "code",
   "execution_count": 229,
   "id": "6e29c6a4",
   "metadata": {},
   "outputs": [
    {
     "data": {
      "text/plain": [
       "True"
      ]
     },
     "execution_count": 229,
     "metadata": {},
     "output_type": "execute_result"
    }
   ],
   "source": [
    "1 in [1,2,3] # True"
   ]
  },
  {
   "cell_type": "code",
   "execution_count": null,
   "id": "0565f964",
   "metadata": {},
   "outputs": [],
   "source": [
    "4 in [1,2,3] # False"
   ]
  },
  {
   "cell_type": "code",
   "execution_count": 238,
   "id": "e8295c73",
   "metadata": {},
   "outputs": [
    {
     "name": "stdout",
     "output_type": "stream",
     "text": [
      "2\n",
      "4\n",
      "6\n",
      "8\n",
      "10\n",
      "12\n",
      "14\n",
      "16\n",
      "18\n"
     ]
    }
   ],
   "source": [
    "dan = 2\n",
    "i = 1\n",
    "while i < 10:\n",
    "    print(i * dan)\n",
    "    i += 1 # 1씩 증가"
   ]
  },
  {
   "cell_type": "code",
   "execution_count": 240,
   "id": "231401cc",
   "metadata": {},
   "outputs": [
    {
     "name": "stdout",
     "output_type": "stream",
     "text": [
      "2\n",
      "4\n",
      "6\n",
      "8\n",
      "10\n",
      "12\n",
      "14\n",
      "16\n",
      "18\n"
     ]
    }
   ],
   "source": [
    "# for문을 이용한 2단 구구단\n",
    "dan = 2\n",
    "i = 1\n",
    "for i in [1,2,3,4,5,6,7,8,9]:\n",
    "    print(i * dan)"
   ]
  },
  {
   "cell_type": "code",
   "execution_count": 242,
   "id": "5c200bee",
   "metadata": {},
   "outputs": [
    {
     "name": "stdout",
     "output_type": "stream",
     "text": [
      "5050\n"
     ]
    }
   ],
   "source": [
    "tot = 0\n",
    "for i in range(1,101):\n",
    "    tot += i\n",
    "print(tot)"
   ]
  },
  {
   "cell_type": "code",
   "execution_count": 243,
   "id": "83de517e",
   "metadata": {},
   "outputs": [
    {
     "name": "stdout",
     "output_type": "stream",
     "text": [
      "3\n",
      "6\n",
      "9\n",
      "12\n",
      "15\n",
      "18\n",
      "21\n",
      "24\n",
      "27\n"
     ]
    }
   ],
   "source": [
    "dan = 3\n",
    "i = 1\n",
    "for i in range(1,10):\n",
    "    print(i * dan)"
   ]
  },
  {
   "cell_type": "code",
   "execution_count": 246,
   "id": "3c89b84e",
   "metadata": {},
   "outputs": [
    {
     "name": "stdout",
     "output_type": "stream",
     "text": [
      "a [1, 2, 3]\n",
      "aa 1\n",
      "aa 2\n",
      "aa 3\n",
      "a [4, 5, 6]\n",
      "aa 4\n",
      "aa 5\n",
      "aa 6\n",
      "a [7, 8, 9, 10]\n",
      "aa 7\n",
      "aa 8\n",
      "aa 9\n",
      "aa 10\n"
     ]
    }
   ],
   "source": [
    "arr3 = [[1,2,3], [4,5,6], [7,8,9,10]]\n",
    "for a in arr3:\n",
    "    print(\"a\",a)\n",
    "    for aa in a:\n",
    "        print(\"aa\",aa)"
   ]
  },
  {
   "cell_type": "code",
   "execution_count": 247,
   "id": "d038e2c5",
   "metadata": {},
   "outputs": [
    {
     "name": "stdout",
     "output_type": "stream",
     "text": [
      "평균=  73.33333333333333\n"
     ]
    }
   ],
   "source": [
    "scores=[ \n",
    "    [\"홍\",70], \n",
    "    [\"김\", 80],\n",
    "    [\"박\", 70]\n",
    "       ]\n",
    "tot = 0\n",
    "\n",
    "# 학생평균 계산\n",
    "for sc in scores:\n",
    "    tot += sc[1]\n",
    "print(\"평균= \" , tot/len(scores))"
   ]
  },
  {
   "cell_type": "code",
   "execution_count": null,
   "id": "955af196",
   "metadata": {},
   "outputs": [],
   "source": [
    "# 집에 가고싶어요"
   ]
  },
  {
   "cell_type": "code",
   "execution_count": 248,
   "id": "7e14c4ef",
   "metadata": {},
   "outputs": [
    {
     "data": {
      "text/plain": [
       "['홀', '짝', '홀', '홀', '짝']"
      ]
     },
     "execution_count": 248,
     "metadata": {},
     "output_type": "execute_result"
    }
   ],
   "source": [
    "arr4 = [1,2,1,1,2]\n",
    "# 1=홀, 2=짝, 변환 출력[홀,짝,홀,홀,짝]\n",
    "\n",
    "[ \"짝\" if i%2==0 else \"홀\" for i in arr4]"
   ]
  },
  {
   "cell_type": "markdown",
   "id": "15d22029",
   "metadata": {},
   "source": [
    "## 함수"
   ]
  },
  {
   "cell_type": "markdown",
   "id": "035fa8bc",
   "metadata": {},
   "source": [
    "### 시험!"
   ]
  },
  {
   "cell_type": "code",
   "execution_count": 250,
   "id": "cf552a13",
   "metadata": {},
   "outputs": [],
   "source": [
    "# 기본 매개변수, 키워드 매개변수 높은 출제율"
   ]
  },
  {
   "cell_type": "code",
   "execution_count": 255,
   "id": "8fc6adfd",
   "metadata": {},
   "outputs": [
    {
     "name": "stdout",
     "output_type": "stream",
     "text": [
      "None\n",
      "None\n"
     ]
    }
   ],
   "source": [
    "def calc_many(choice, *args):\n",
    "    if choice 몰?루 ㅅㅂ\n",
    "\n",
    "print(calc_many(\"sum\", 1,3,5))\n",
    "print(calc_many(\"mul\", 3,2,4))"
   ]
  },
  {
   "cell_type": "code",
   "execution_count": null,
   "id": "4e057116",
   "metadata": {},
   "outputs": [],
   "source": []
  }
 ],
 "metadata": {
  "kernelspec": {
   "display_name": "Python 3 (ipykernel)",
   "language": "python",
   "name": "python3"
  },
  "language_info": {
   "codemirror_mode": {
    "name": "ipython",
    "version": 3
   },
   "file_extension": ".py",
   "mimetype": "text/x-python",
   "name": "python",
   "nbconvert_exporter": "python",
   "pygments_lexer": "ipython3",
   "version": "3.9.12"
  }
 },
 "nbformat": 4,
 "nbformat_minor": 5
}
